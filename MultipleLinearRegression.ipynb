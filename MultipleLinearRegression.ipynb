{
  "nbformat": 4,
  "nbformat_minor": 0,
  "metadata": {
    "colab": {
      "provenance": [],
      "gpuType": "T4",
      "authorship_tag": "ABX9TyM0DxdS1JVV3vGH0aprYt+G",
      "include_colab_link": true
    },
    "kernelspec": {
      "name": "python3",
      "display_name": "Python 3"
    },
    "language_info": {
      "name": "python"
    },
    "accelerator": "GPU"
  },
  "cells": [
    {
      "cell_type": "markdown",
      "metadata": {
        "id": "view-in-github",
        "colab_type": "text"
      },
      "source": [
        "<a href=\"https://colab.research.google.com/github/Aakushah/MultipleLinearRegression/blob/main/MultipleLinearRegression.ipynb\" target=\"_parent\"><img src=\"https://colab.research.google.com/assets/colab-badge.svg\" alt=\"Open In Colab\"/></a>"
      ]
    },
    {
      "cell_type": "markdown",
      "source": [
        "📌 Step 1: Generate and Save Dataset"
      ],
      "metadata": {
        "id": "5k6rUedL2Zns"
      }
    },
    {
      "cell_type": "code",
      "execution_count": null,
      "metadata": {
        "colab": {
          "base_uri": "https://localhost:8080/",
          "height": 242
        },
        "id": "Z0mHezHNyx-P",
        "outputId": "c8771169-5bb0-48c9-9e4a-3d692f31c4f9"
      },
      "outputs": [
        {
          "output_type": "stream",
          "name": "stdout",
          "text": [
            "[118.61663447 285.70714886 222.27824313 183.61096042  55.24540573\n",
            "  55.2384109   26.84424753 261.19108227 184.32335341 215.34104756]\n"
          ]
        },
        {
          "output_type": "execute_result",
          "data": {
            "text/plain": [
              "           TV      Radio  Newspaper        Sales\n",
              "0  118.616634   6.955527  31.368939   564.357634\n",
              "1  285.707149  97.141436   8.695705  1633.580647\n",
              "2  222.278243  84.082051  16.022943  1272.930903\n",
              "3  183.610960  25.172216  19.585368   933.344998\n",
              "4   55.245406  22.273372  23.891359   339.965640"
            ],
            "text/html": [
              "\n",
              "  <div id=\"df-76872462-9a3d-4c87-9f2b-b223b5b817a9\" class=\"colab-df-container\">\n",
              "    <div>\n",
              "<style scoped>\n",
              "    .dataframe tbody tr th:only-of-type {\n",
              "        vertical-align: middle;\n",
              "    }\n",
              "\n",
              "    .dataframe tbody tr th {\n",
              "        vertical-align: top;\n",
              "    }\n",
              "\n",
              "    .dataframe thead th {\n",
              "        text-align: right;\n",
              "    }\n",
              "</style>\n",
              "<table border=\"1\" class=\"dataframe\">\n",
              "  <thead>\n",
              "    <tr style=\"text-align: right;\">\n",
              "      <th></th>\n",
              "      <th>TV</th>\n",
              "      <th>Radio</th>\n",
              "      <th>Newspaper</th>\n",
              "      <th>Sales</th>\n",
              "    </tr>\n",
              "  </thead>\n",
              "  <tbody>\n",
              "    <tr>\n",
              "      <th>0</th>\n",
              "      <td>118.616634</td>\n",
              "      <td>6.955527</td>\n",
              "      <td>31.368939</td>\n",
              "      <td>564.357634</td>\n",
              "    </tr>\n",
              "    <tr>\n",
              "      <th>1</th>\n",
              "      <td>285.707149</td>\n",
              "      <td>97.141436</td>\n",
              "      <td>8.695705</td>\n",
              "      <td>1633.580647</td>\n",
              "    </tr>\n",
              "    <tr>\n",
              "      <th>2</th>\n",
              "      <td>222.278243</td>\n",
              "      <td>84.082051</td>\n",
              "      <td>16.022943</td>\n",
              "      <td>1272.930903</td>\n",
              "    </tr>\n",
              "    <tr>\n",
              "      <th>3</th>\n",
              "      <td>183.610960</td>\n",
              "      <td>25.172216</td>\n",
              "      <td>19.585368</td>\n",
              "      <td>933.344998</td>\n",
              "    </tr>\n",
              "    <tr>\n",
              "      <th>4</th>\n",
              "      <td>55.245406</td>\n",
              "      <td>22.273372</td>\n",
              "      <td>23.891359</td>\n",
              "      <td>339.965640</td>\n",
              "    </tr>\n",
              "  </tbody>\n",
              "</table>\n",
              "</div>\n",
              "    <div class=\"colab-df-buttons\">\n",
              "\n",
              "  <div class=\"colab-df-container\">\n",
              "    <button class=\"colab-df-convert\" onclick=\"convertToInteractive('df-76872462-9a3d-4c87-9f2b-b223b5b817a9')\"\n",
              "            title=\"Convert this dataframe to an interactive table.\"\n",
              "            style=\"display:none;\">\n",
              "\n",
              "  <svg xmlns=\"http://www.w3.org/2000/svg\" height=\"24px\" viewBox=\"0 -960 960 960\">\n",
              "    <path d=\"M120-120v-720h720v720H120Zm60-500h600v-160H180v160Zm220 220h160v-160H400v160Zm0 220h160v-160H400v160ZM180-400h160v-160H180v160Zm440 0h160v-160H620v160ZM180-180h160v-160H180v160Zm440 0h160v-160H620v160Z\"/>\n",
              "  </svg>\n",
              "    </button>\n",
              "\n",
              "  <style>\n",
              "    .colab-df-container {\n",
              "      display:flex;\n",
              "      gap: 12px;\n",
              "    }\n",
              "\n",
              "    .colab-df-convert {\n",
              "      background-color: #E8F0FE;\n",
              "      border: none;\n",
              "      border-radius: 50%;\n",
              "      cursor: pointer;\n",
              "      display: none;\n",
              "      fill: #1967D2;\n",
              "      height: 32px;\n",
              "      padding: 0 0 0 0;\n",
              "      width: 32px;\n",
              "    }\n",
              "\n",
              "    .colab-df-convert:hover {\n",
              "      background-color: #E2EBFA;\n",
              "      box-shadow: 0px 1px 2px rgba(60, 64, 67, 0.3), 0px 1px 3px 1px rgba(60, 64, 67, 0.15);\n",
              "      fill: #174EA6;\n",
              "    }\n",
              "\n",
              "    .colab-df-buttons div {\n",
              "      margin-bottom: 4px;\n",
              "    }\n",
              "\n",
              "    [theme=dark] .colab-df-convert {\n",
              "      background-color: #3B4455;\n",
              "      fill: #D2E3FC;\n",
              "    }\n",
              "\n",
              "    [theme=dark] .colab-df-convert:hover {\n",
              "      background-color: #434B5C;\n",
              "      box-shadow: 0px 1px 3px 1px rgba(0, 0, 0, 0.15);\n",
              "      filter: drop-shadow(0px 1px 2px rgba(0, 0, 0, 0.3));\n",
              "      fill: #FFFFFF;\n",
              "    }\n",
              "  </style>\n",
              "\n",
              "    <script>\n",
              "      const buttonEl =\n",
              "        document.querySelector('#df-76872462-9a3d-4c87-9f2b-b223b5b817a9 button.colab-df-convert');\n",
              "      buttonEl.style.display =\n",
              "        google.colab.kernel.accessAllowed ? 'block' : 'none';\n",
              "\n",
              "      async function convertToInteractive(key) {\n",
              "        const element = document.querySelector('#df-76872462-9a3d-4c87-9f2b-b223b5b817a9');\n",
              "        const dataTable =\n",
              "          await google.colab.kernel.invokeFunction('convertToInteractive',\n",
              "                                                    [key], {});\n",
              "        if (!dataTable) return;\n",
              "\n",
              "        const docLinkHtml = 'Like what you see? Visit the ' +\n",
              "          '<a target=\"_blank\" href=https://colab.research.google.com/notebooks/data_table.ipynb>data table notebook</a>'\n",
              "          + ' to learn more about interactive tables.';\n",
              "        element.innerHTML = '';\n",
              "        dataTable['output_type'] = 'display_data';\n",
              "        await google.colab.output.renderOutput(dataTable, element);\n",
              "        const docLink = document.createElement('div');\n",
              "        docLink.innerHTML = docLinkHtml;\n",
              "        element.appendChild(docLink);\n",
              "      }\n",
              "    </script>\n",
              "  </div>\n",
              "\n",
              "\n",
              "<div id=\"df-d2a8649d-0d56-43ce-9193-c52456c636e5\">\n",
              "  <button class=\"colab-df-quickchart\" onclick=\"quickchart('df-d2a8649d-0d56-43ce-9193-c52456c636e5')\"\n",
              "            title=\"Suggest charts\"\n",
              "            style=\"display:none;\">\n",
              "\n",
              "<svg xmlns=\"http://www.w3.org/2000/svg\" height=\"24px\"viewBox=\"0 0 24 24\"\n",
              "     width=\"24px\">\n",
              "    <g>\n",
              "        <path d=\"M19 3H5c-1.1 0-2 .9-2 2v14c0 1.1.9 2 2 2h14c1.1 0 2-.9 2-2V5c0-1.1-.9-2-2-2zM9 17H7v-7h2v7zm4 0h-2V7h2v10zm4 0h-2v-4h2v4z\"/>\n",
              "    </g>\n",
              "</svg>\n",
              "  </button>\n",
              "\n",
              "<style>\n",
              "  .colab-df-quickchart {\n",
              "      --bg-color: #E8F0FE;\n",
              "      --fill-color: #1967D2;\n",
              "      --hover-bg-color: #E2EBFA;\n",
              "      --hover-fill-color: #174EA6;\n",
              "      --disabled-fill-color: #AAA;\n",
              "      --disabled-bg-color: #DDD;\n",
              "  }\n",
              "\n",
              "  [theme=dark] .colab-df-quickchart {\n",
              "      --bg-color: #3B4455;\n",
              "      --fill-color: #D2E3FC;\n",
              "      --hover-bg-color: #434B5C;\n",
              "      --hover-fill-color: #FFFFFF;\n",
              "      --disabled-bg-color: #3B4455;\n",
              "      --disabled-fill-color: #666;\n",
              "  }\n",
              "\n",
              "  .colab-df-quickchart {\n",
              "    background-color: var(--bg-color);\n",
              "    border: none;\n",
              "    border-radius: 50%;\n",
              "    cursor: pointer;\n",
              "    display: none;\n",
              "    fill: var(--fill-color);\n",
              "    height: 32px;\n",
              "    padding: 0;\n",
              "    width: 32px;\n",
              "  }\n",
              "\n",
              "  .colab-df-quickchart:hover {\n",
              "    background-color: var(--hover-bg-color);\n",
              "    box-shadow: 0 1px 2px rgba(60, 64, 67, 0.3), 0 1px 3px 1px rgba(60, 64, 67, 0.15);\n",
              "    fill: var(--button-hover-fill-color);\n",
              "  }\n",
              "\n",
              "  .colab-df-quickchart-complete:disabled,\n",
              "  .colab-df-quickchart-complete:disabled:hover {\n",
              "    background-color: var(--disabled-bg-color);\n",
              "    fill: var(--disabled-fill-color);\n",
              "    box-shadow: none;\n",
              "  }\n",
              "\n",
              "  .colab-df-spinner {\n",
              "    border: 2px solid var(--fill-color);\n",
              "    border-color: transparent;\n",
              "    border-bottom-color: var(--fill-color);\n",
              "    animation:\n",
              "      spin 1s steps(1) infinite;\n",
              "  }\n",
              "\n",
              "  @keyframes spin {\n",
              "    0% {\n",
              "      border-color: transparent;\n",
              "      border-bottom-color: var(--fill-color);\n",
              "      border-left-color: var(--fill-color);\n",
              "    }\n",
              "    20% {\n",
              "      border-color: transparent;\n",
              "      border-left-color: var(--fill-color);\n",
              "      border-top-color: var(--fill-color);\n",
              "    }\n",
              "    30% {\n",
              "      border-color: transparent;\n",
              "      border-left-color: var(--fill-color);\n",
              "      border-top-color: var(--fill-color);\n",
              "      border-right-color: var(--fill-color);\n",
              "    }\n",
              "    40% {\n",
              "      border-color: transparent;\n",
              "      border-right-color: var(--fill-color);\n",
              "      border-top-color: var(--fill-color);\n",
              "    }\n",
              "    60% {\n",
              "      border-color: transparent;\n",
              "      border-right-color: var(--fill-color);\n",
              "    }\n",
              "    80% {\n",
              "      border-color: transparent;\n",
              "      border-right-color: var(--fill-color);\n",
              "      border-bottom-color: var(--fill-color);\n",
              "    }\n",
              "    90% {\n",
              "      border-color: transparent;\n",
              "      border-bottom-color: var(--fill-color);\n",
              "    }\n",
              "  }\n",
              "</style>\n",
              "\n",
              "  <script>\n",
              "    async function quickchart(key) {\n",
              "      const quickchartButtonEl =\n",
              "        document.querySelector('#' + key + ' button');\n",
              "      quickchartButtonEl.disabled = true;  // To prevent multiple clicks.\n",
              "      quickchartButtonEl.classList.add('colab-df-spinner');\n",
              "      try {\n",
              "        const charts = await google.colab.kernel.invokeFunction(\n",
              "            'suggestCharts', [key], {});\n",
              "      } catch (error) {\n",
              "        console.error('Error during call to suggestCharts:', error);\n",
              "      }\n",
              "      quickchartButtonEl.classList.remove('colab-df-spinner');\n",
              "      quickchartButtonEl.classList.add('colab-df-quickchart-complete');\n",
              "    }\n",
              "    (() => {\n",
              "      let quickchartButtonEl =\n",
              "        document.querySelector('#df-d2a8649d-0d56-43ce-9193-c52456c636e5 button');\n",
              "      quickchartButtonEl.style.display =\n",
              "        google.colab.kernel.accessAllowed ? 'block' : 'none';\n",
              "    })();\n",
              "  </script>\n",
              "</div>\n",
              "\n",
              "    </div>\n",
              "  </div>\n"
            ],
            "application/vnd.google.colaboratory.intrinsic+json": {
              "type": "dataframe",
              "variable_name": "df",
              "summary": "{\n  \"name\": \"df\",\n  \"rows\": 10,\n  \"fields\": [\n    {\n      \"column\": \"TV\",\n      \"properties\": {\n        \"dtype\": \"number\",\n        \"std\": 91.60103058823593,\n        \"min\": 26.844247528777842,\n        \"max\": 285.7071488588757,\n        \"num_unique_values\": 10,\n        \"samples\": [\n          184.32335340553055,\n          285.7071488588757,\n          55.23841089749877\n        ],\n        \"semantic_type\": \"\",\n        \"description\": \"\"\n      }\n    },\n    {\n      \"column\": \"Radio\",\n      \"properties\": {\n        \"dtype\": \"number\",\n        \"std\": 28.725208958981852,\n        \"min\": 6.955526958101233,\n        \"max\": 97.14143595538945,\n        \"num_unique_values\": 10,\n        \"samples\": [\n          46.034776771001,\n          97.14143595538945,\n          22.42342843607621\n        ],\n        \"semantic_type\": \"\",\n        \"description\": \"\"\n      }\n    },\n    {\n      \"column\": \"Newspaper\",\n      \"properties\": {\n        \"dtype\": \"number\",\n        \"std\": 11.225263419559658,\n        \"min\": 4.229619810559891,\n        \"max\": 39.68844614686465,\n        \"num_unique_values\": 10,\n        \"samples\": [\n          30.435899305378037,\n          8.695705311298008,\n          39.68844614686465\n        ],\n        \"semantic_type\": \"\",\n        \"description\": \"\"\n      }\n    },\n    {\n      \"column\": \"Sales\",\n      \"properties\": {\n        \"dtype\": \"number\",\n        \"std\": 464.2786877772898,\n        \"min\": 252.94101174386572,\n        \"max\": 1633.5806469931965,\n        \"num_unique_values\": 10,\n        \"samples\": [\n          1081.809010138544,\n          1633.5806469931965,\n          496.287466168051\n        ],\n        \"semantic_type\": \"\",\n        \"description\": \"\"\n      }\n    }\n  ]\n}"
            }
          },
          "metadata": {},
          "execution_count": 1
        }
      ],
      "source": [
        "import numpy as np\n",
        "import pandas as pd\n",
        "\n",
        "# Set random seed for reproducibility\n",
        "np.random.seed(42)\n",
        "\n",
        "# Generate 200 random advertising budgets\n",
        "TV = np.random.uniform(10, 300, 10)  # TV advertising budget\n",
        "Radio = np.random.uniform(5, 100, 10)  # Radio advertising budget\n",
        "Newspaper = np.random.uniform(2, 50, 10)  # Newspaper advertising budget\n",
        "print(TV)\n",
        "\n",
        "\n",
        "\n",
        "# Generate Sales with some noise\n",
        "Sales = 4.5 * TV + 3.2 * Radio + 2.1 * Newspaper + np.random.normal(0, 50, 10)\n",
        "\n",
        "# Create DataFrame\n",
        "df = pd.DataFrame({'TV': TV, 'Radio': Radio, 'Newspaper': Newspaper, 'Sales': Sales})\n",
        "\n",
        "# Save as CSV\n",
        "df.to_csv('data_linear_regression.csv', index=False)\n",
        "\n",
        "df.head()\n"
      ]
    },
    {
      "cell_type": "markdown",
      "source": [
        "📌 Step 2: Load and Normalize Data"
      ],
      "metadata": {
        "id": "boxzx9rP2e0T"
      }
    },
    {
      "cell_type": "code",
      "source": [
        "# Load dataset\n",
        "df = pd.read_csv('data_linear_regression.csv')\n",
        "\n",
        "# Extract features (TV, Radio, Newspaper) and target (Sales)\n",
        "features = df[['TV', 'Radio', 'Newspaper']].values  # (200,3)\n",
        "targets = df['Sales'].values.reshape(-1,1)  # (200,1)\n",
        "\n",
        "# Normalization function\n",
        "def normalize(features):\n",
        "    for feature in features.T:\n",
        "        fmean = np.mean(feature)\n",
        "        frange = np.amax(feature) - np.amin(feature)\n",
        "        feature -= fmean\n",
        "        feature /= frange\n",
        "    return features\n",
        "\n",
        "\n",
        "# Normalize features\n",
        "features = normalize(features)\n",
        "\n",
        "\n",
        "# Add bias term (column of ones)\n",
        "features = np.c_[np.ones(features.shape[0]), features]  # (200,4)\n",
        "\n",
        "# Initialize weights\n",
        "weights = np.zeros((features.shape[1], 1))  # (4,1)\n",
        "\n",
        "\n"
      ],
      "metadata": {
        "id": "3nZx-SK02mCM"
      },
      "execution_count": null,
      "outputs": []
    },
    {
      "cell_type": "markdown",
      "source": [
        "📌 Step 3: Define Model Functions"
      ],
      "metadata": {
        "id": "nPA-84N22oNm"
      }
    },
    {
      "cell_type": "code",
      "source": [
        "# Prediction function\n",
        "def predict(features, weights):\n",
        "    return np.dot(features, weights)  # (200,1)\n",
        "\n",
        "# Cost function (Mean Squared Error)\n",
        "def cost_function(features, targets, weights):\n",
        "    N = len(targets)\n",
        "    predictions = predict(features, weights)\n",
        "    sq_error = (predictions - targets) ** 2\n",
        "    return 1.0 / (2 * N) * sq_error.sum()\n",
        "\n",
        "\n",
        "\n",
        "# Gradient Descent function\n",
        "def update_weights(features, targets, weights, lr):\n",
        "    N = len(targets)\n",
        "    predictions = predict(features, weights)\n",
        "    error = predictions - targets           #(10,1)\n",
        "    # print(\"features: \",features)            #(10,4)\n",
        "    # print(\"error: \",error)                  #(10,1)\n",
        "\n",
        "    gradient = np.dot(features.T, error) / N   #(4,1)\n",
        "\n",
        "    weights -= lr * gradient\n",
        "    return weights\n"
      ],
      "metadata": {
        "id": "Uf32Uyea2tgN"
      },
      "execution_count": null,
      "outputs": []
    },
    {
      "cell_type": "markdown",
      "source": [
        "📌 Step 4: Train the Model"
      ],
      "metadata": {
        "id": "0nE7bi2t2xQx"
      }
    },
    {
      "cell_type": "code",
      "source": [
        "# Training loop\n",
        "epochs = 1000\n",
        "learning_rate = 0.1\n",
        "\n",
        "for epoch in range(epochs):\n",
        "    weights = update_weights(features, targets, weights, learning_rate)\n",
        "\n",
        "    if epoch % 100 == 0:\n",
        "        loss = cost_function(features, targets, weights)\n",
        "        print(f\"Epoch {epoch}: Loss = {loss:.4f}\")\n"
      ],
      "metadata": {
        "colab": {
          "base_uri": "https://localhost:8080/"
        },
        "id": "igBXYfAc2zvy",
        "outputId": "216f7a9a-f769-40ee-f2d9-4faff0a1e150"
      },
      "execution_count": null,
      "outputs": [
        {
          "output_type": "stream",
          "name": "stdout",
          "text": [
            "Epoch 0: Loss = 418063.6069\n",
            "Epoch 100: Loss = 6714.6902\n",
            "Epoch 200: Loss = 2155.9671\n",
            "Epoch 300: Loss = 1132.5541\n",
            "Epoch 400: Loss = 801.7082\n",
            "Epoch 500: Loss = 680.5121\n",
            "Epoch 600: Loss = 630.3219\n",
            "Epoch 700: Loss = 607.0872\n",
            "Epoch 800: Loss = 595.4072\n",
            "Epoch 900: Loss = 589.2240\n"
          ]
        }
      ]
    },
    {
      "cell_type": "markdown",
      "source": [
        "📌 Step 5: Make Predictions\n",
        "\n"
      ],
      "metadata": {
        "id": "rXwhpmKJ21_Q"
      }
    },
    {
      "cell_type": "code",
      "source": [
        "\n",
        "y_pred = predict(features, weights)\n",
        "\n",
        "print(\"\\nFirst 5 Predictions vs Actual:\")\n",
        "print(np.column_stack((y_pred[:5], targets[:5])))\n",
        "\n",
        "\n",
        "def r2_score(y_true, y_pred):\n",
        "    \"\"\"\n",
        "    Calculate the R² score (Coefficient of Determination).\n",
        "    \"\"\"\n",
        "    mean_y_true = np.mean(y_true)\n",
        "    ss_total = np.sum((y_true - mean_y_true)**2)  # Total sum of squares\n",
        "    ss_residual = np.sum((y_true - y_pred)**2)   # Residual sum of squares\n",
        "\n",
        "    r2 = 1 - (ss_residual / ss_total)\n",
        "    return r2\n",
        "\n",
        "r2 = r2_score(y_pred, targets)\n",
        "print(f\"R² Score: {r2:.4f}\")"
      ],
      "metadata": {
        "colab": {
          "base_uri": "https://localhost:8080/"
        },
        "id": "w-eIeM38296C",
        "outputId": "2389c8e8-7e82-4559-f0e7-74fcff80a40c"
      },
      "execution_count": null,
      "outputs": [
        {
          "output_type": "stream",
          "name": "stdout",
          "text": [
            "\n",
            "First 5 Predictions vs Actual:\n",
            "[[ 601.775707    564.35763428]\n",
            " [1606.87709091 1633.58064699]\n",
            " [1317.42604832 1272.93090294]\n",
            " [ 901.5027991   933.34499784]\n",
            " [ 377.16880399  339.96563961]]\n",
            "R² Score: 0.9939\n"
          ]
        }
      ]
    },
    {
      "cell_type": "markdown",
      "source": [
        "📌 Step 6: Visualize Regression Results"
      ],
      "metadata": {
        "id": "MgGQJT_K2_vF"
      }
    },
    {
      "cell_type": "code",
      "source": [
        "import matplotlib.pyplot as plt\n",
        "\n",
        "# Scatter plot of Actual vs Predicted\n",
        "plt.scatter(targets, y_pred, color='blue', alpha=0.5, label=\"Predicted vs Actual\")\n",
        "\n",
        "# Perfect Prediction Line\n",
        "plt.plot([min(targets), max(targets)], [min(targets), max(targets)], color='red', linestyle='dashed', label=\"Perfect Fit\")\n",
        "\n",
        "plt.xlabel(\"Actual Sales\")\n",
        "plt.ylabel(\"Predicted Sales\")\n",
        "plt.title(\"Linear Regression Model Performance\")\n",
        "plt.legend()\n",
        "plt.show()\n"
      ],
      "metadata": {
        "colab": {
          "base_uri": "https://localhost:8080/",
          "height": 472
        },
        "id": "bUSlCo1A3Ccf",
        "outputId": "d65a73f5-e6b4-4658-fde5-9a04ffdec88e"
      },
      "execution_count": null,
      "outputs": [
        {
          "output_type": "display_data",
          "data": {
            "text/plain": [
              "<Figure size 640x480 with 1 Axes>"
            ],
            "image/png": "[encoded data removed]"
          },
          "metadata": {}
        }
      ]
    }
  ]
}